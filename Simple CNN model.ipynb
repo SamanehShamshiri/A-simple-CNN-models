{
 "cells": [
  {
   "cell_type": "code",
   "execution_count": 14,
   "id": "c7d34783",
   "metadata": {},
   "outputs": [],
   "source": [
    "import tensorflow as tf\n",
    "from tensorflow import keras\n",
    "from tensorflow.keras.models import Sequential\n",
    "from tensorflow.keras.layers import Dense, Activation\n",
    "import numpy as np\n",
    "from tensorflow.keras.datasets import mnist\n",
    "from tensorflow.keras import utils\n",
    "from tensorflow.keras.utils import to_categorical\n",
    "import matplotlib.pyplot as plt\n",
    "%matplotlib inline"
   ]
  },
  {
   "cell_type": "code",
   "execution_count": 2,
   "id": "620d5372",
   "metadata": {},
   "outputs": [],
   "source": [
    "(X_train_original, Y_train_original), (X_test_original, Y_test_original) = mnist.load_data()"
   ]
  },
  {
   "cell_type": "code",
   "execution_count": 3,
   "id": "6c46f895",
   "metadata": {},
   "outputs": [
    {
     "name": "stdout",
     "output_type": "stream",
     "text": [
      "(60000, 28, 28)\n",
      "(60000,)\n",
      "(10000, 28, 28)\n",
      "(10000,)\n"
     ]
    }
   ],
   "source": [
    "print(X_train_original.shape)\n",
    "print(Y_train_original.shape)\n",
    "print(X_test_original.shape)\n",
    "print(Y_test_original.shape)"
   ]
  },
  {
   "cell_type": "code",
   "execution_count": 4,
   "id": "441930a2",
   "metadata": {},
   "outputs": [],
   "source": [
    "x_train=np.array(X_train_original)\n",
    "y_train=keras.utils.to_categorical( Y_train_original, num_classes=10)\n",
    "x_test=np.array(X_test_original)\n",
    "y_test=keras.utils.to_categorical( Y_test_original, num_classes=10)"
   ]
  },
  {
   "cell_type": "code",
   "execution_count": 5,
   "id": "02f6b4fe",
   "metadata": {},
   "outputs": [
    {
     "name": "stdout",
     "output_type": "stream",
     "text": [
      "(60000, 28, 28)\n",
      "(60000, 10)\n",
      "(10000, 28, 28)\n",
      "(10000, 10)\n"
     ]
    }
   ],
   "source": [
    "print(x_train.shape)\n",
    "print(y_train.shape)\n",
    "print(x_test.shape)\n",
    "print(y_test.shape)"
   ]
  },
  {
   "cell_type": "code",
   "execution_count": 6,
   "id": "5988cbcb",
   "metadata": {},
   "outputs": [],
   "source": [
    "x_train=x_train.astype('float32')\n",
    "x_test=x_test.astype('float32')\n",
    "x_train/=255\n",
    "x_test/=255"
   ]
  },
  {
   "cell_type": "code",
   "execution_count": 7,
   "id": "1f4c12c7",
   "metadata": {},
   "outputs": [
    {
     "data": {
      "text/plain": [
       "numpy.ndarray"
      ]
     },
     "execution_count": 7,
     "metadata": {},
     "output_type": "execute_result"
    }
   ],
   "source": [
    "type(x_train)"
   ]
  },
  {
   "cell_type": "code",
   "execution_count": 8,
   "id": "4b40bf8a",
   "metadata": {},
   "outputs": [
    {
     "name": "stdout",
     "output_type": "stream",
     "text": [
      "Model: \"sequential\"\n",
      "_________________________________________________________________\n",
      " Layer (type)                Output Shape              Param #   \n",
      "=================================================================\n",
      " conv2d (Conv2D)             (None, 26, 26, 28)        280       \n",
      "                                                                 \n",
      " max_pooling2d (MaxPooling2D  (None, 13, 13, 28)       0         \n",
      " )                                                               \n",
      "                                                                 \n",
      " conv2d_1 (Conv2D)           (None, 11, 11, 56)        14168     \n",
      "                                                                 \n",
      " flatten (Flatten)           (None, 6776)              0         \n",
      "                                                                 \n",
      " dense (Dense)               (None, 64)                433728    \n",
      "                                                                 \n",
      " dense_1 (Dense)             (None, 10)                650       \n",
      "                                                                 \n",
      "=================================================================\n",
      "Total params: 448,826\n",
      "Trainable params: 448,826\n",
      "Non-trainable params: 0\n",
      "_________________________________________________________________\n"
     ]
    }
   ],
   "source": [
    "#model architecture\n",
    "#model=Sequential()\n",
    "#model.add(Dense(64, activation='relu', input_shape=(64,28, 28, 1)))\n",
    "#model.add(Dense(10,activation='softmax'))\n",
    "model = tf.keras.models.Sequential([  \n",
    "    tf.keras.layers.Conv2D(28, (3,3), activation='relu', input_shape=(28, 28, 1)),  \n",
    "    tf.keras.layers.MaxPooling2D((2, 2)),  \n",
    "    tf.keras.layers.Conv2D(56, (3,3), activation='relu'),  \n",
    "    tf.keras.layers.Flatten(),  \n",
    "    tf.keras.layers.Dense(64, activation='relu'),  \n",
    "    tf.keras.layers.Dense(10, activation='softmax'),  \n",
    "]) \n",
    "\n",
    "model.summary()"
   ]
  },
  {
   "cell_type": "code",
   "execution_count": 9,
   "id": "1c1d92d6",
   "metadata": {},
   "outputs": [],
   "source": [
    "#compile model\n",
    "model.compile(loss='categorical_crossentropy', optimizer='rmsprop', metrics=['accuracy'])"
   ]
  },
  {
   "cell_type": "code",
   "execution_count": 10,
   "id": "2713a114",
   "metadata": {},
   "outputs": [
    {
     "name": "stdout",
     "output_type": "stream",
     "text": [
      "Epoch 1/30\n",
      "750/750 [==============================] - 20s 25ms/step - loss: 0.1546 - accuracy: 0.9521 - val_loss: 0.0538 - val_accuracy: 0.9833\n",
      "Epoch 2/30\n",
      "750/750 [==============================] - 18s 25ms/step - loss: 0.0485 - accuracy: 0.9851 - val_loss: 0.0495 - val_accuracy: 0.9849\n",
      "Epoch 3/30\n",
      "750/750 [==============================] - 19s 25ms/step - loss: 0.0309 - accuracy: 0.9904 - val_loss: 0.0369 - val_accuracy: 0.9891\n",
      "Epoch 4/30\n",
      "750/750 [==============================] - 19s 25ms/step - loss: 0.0228 - accuracy: 0.9934 - val_loss: 0.0373 - val_accuracy: 0.9903\n",
      "Epoch 5/30\n",
      "750/750 [==============================] - 19s 25ms/step - loss: 0.0172 - accuracy: 0.9949 - val_loss: 0.0451 - val_accuracy: 0.9883\n",
      "Epoch 6/30\n",
      "750/750 [==============================] - 19s 26ms/step - loss: 0.0127 - accuracy: 0.9961 - val_loss: 0.0385 - val_accuracy: 0.9906\n",
      "Epoch 7/30\n",
      "750/750 [==============================] - 19s 25ms/step - loss: 0.0094 - accuracy: 0.9970 - val_loss: 0.0515 - val_accuracy: 0.9902\n",
      "Epoch 8/30\n",
      "750/750 [==============================] - 19s 25ms/step - loss: 0.0068 - accuracy: 0.9979 - val_loss: 0.0472 - val_accuracy: 0.9891\n",
      "Epoch 9/30\n",
      "750/750 [==============================] - 19s 25ms/step - loss: 0.0051 - accuracy: 0.9985 - val_loss: 0.0540 - val_accuracy: 0.9893\n",
      "Epoch 10/30\n",
      "750/750 [==============================] - 19s 25ms/step - loss: 0.0042 - accuracy: 0.9988 - val_loss: 0.0569 - val_accuracy: 0.9908\n",
      "Epoch 11/30\n",
      "750/750 [==============================] - 19s 25ms/step - loss: 0.0030 - accuracy: 0.9992 - val_loss: 0.0663 - val_accuracy: 0.9898\n",
      "Epoch 12/30\n",
      "750/750 [==============================] - 19s 25ms/step - loss: 0.0027 - accuracy: 0.9992 - val_loss: 0.0604 - val_accuracy: 0.9900\n",
      "Epoch 13/30\n",
      "750/750 [==============================] - 19s 25ms/step - loss: 0.0020 - accuracy: 0.9993 - val_loss: 0.0685 - val_accuracy: 0.9915\n",
      "Epoch 14/30\n",
      "750/750 [==============================] - 19s 25ms/step - loss: 0.0016 - accuracy: 0.9995 - val_loss: 0.0808 - val_accuracy: 0.9898\n",
      "Epoch 15/30\n",
      "750/750 [==============================] - 19s 25ms/step - loss: 0.0016 - accuracy: 0.9995 - val_loss: 0.0766 - val_accuracy: 0.9908\n",
      "Epoch 16/30\n",
      "750/750 [==============================] - 19s 26ms/step - loss: 7.9009e-04 - accuracy: 0.9997 - val_loss: 0.0895 - val_accuracy: 0.9902\n",
      "Epoch 17/30\n",
      "750/750 [==============================] - 19s 26ms/step - loss: 0.0014 - accuracy: 0.9997 - val_loss: 0.0830 - val_accuracy: 0.9912\n",
      "Epoch 18/30\n",
      "750/750 [==============================] - 19s 26ms/step - loss: 6.1331e-04 - accuracy: 0.9998 - val_loss: 0.0979 - val_accuracy: 0.9902\n",
      "Epoch 19/30\n",
      "750/750 [==============================] - 19s 25ms/step - loss: 7.9541e-04 - accuracy: 0.9998 - val_loss: 0.0998 - val_accuracy: 0.9909\n",
      "Epoch 20/30\n",
      "750/750 [==============================] - 19s 26ms/step - loss: 9.3877e-04 - accuracy: 0.9998 - val_loss: 0.1044 - val_accuracy: 0.9906\n",
      "Epoch 21/30\n",
      "750/750 [==============================] - 19s 26ms/step - loss: 5.6581e-04 - accuracy: 0.9998 - val_loss: 0.1067 - val_accuracy: 0.9898\n",
      "Epoch 22/30\n",
      "750/750 [==============================] - 19s 26ms/step - loss: 5.6176e-04 - accuracy: 0.9999 - val_loss: 0.1182 - val_accuracy: 0.9903\n",
      "Epoch 23/30\n",
      "750/750 [==============================] - 19s 25ms/step - loss: 5.3963e-04 - accuracy: 0.9999 - val_loss: 0.1075 - val_accuracy: 0.9902\n",
      "Epoch 24/30\n",
      "750/750 [==============================] - 19s 25ms/step - loss: 1.4079e-04 - accuracy: 1.0000 - val_loss: 0.1325 - val_accuracy: 0.9892\n",
      "Epoch 25/30\n",
      "750/750 [==============================] - 19s 25ms/step - loss: 1.4660e-04 - accuracy: 0.9999 - val_loss: 0.1369 - val_accuracy: 0.9900\n",
      "Epoch 26/30\n",
      "750/750 [==============================] - 19s 25ms/step - loss: 3.5834e-04 - accuracy: 0.9999 - val_loss: 0.1291 - val_accuracy: 0.9903\n",
      "Epoch 27/30\n",
      "750/750 [==============================] - 19s 25ms/step - loss: 1.1168e-04 - accuracy: 1.0000 - val_loss: 0.1492 - val_accuracy: 0.9911\n",
      "Epoch 28/30\n",
      "750/750 [==============================] - 19s 25ms/step - loss: 4.0087e-04 - accuracy: 1.0000 - val_loss: 0.1271 - val_accuracy: 0.9905\n",
      "Epoch 29/30\n",
      "750/750 [==============================] - 19s 25ms/step - loss: 1.0151e-04 - accuracy: 1.0000 - val_loss: 0.1580 - val_accuracy: 0.9903\n",
      "Epoch 30/30\n",
      "750/750 [==============================] - 19s 25ms/step - loss: 1.4300e-04 - accuracy: 0.9999 - val_loss: 0.1437 - val_accuracy: 0.9899\n"
     ]
    }
   ],
   "source": [
    "history=model.fit(x_train,y_train,epochs=30,batch_size=64, validation_split=0.2)"
   ]
  },
  {
   "cell_type": "code",
   "execution_count": 11,
   "id": "0a296c8e",
   "metadata": {},
   "outputs": [
    {
     "data": {
      "text/plain": [
       "dict_keys(['loss', 'accuracy', 'val_loss', 'val_accuracy'])"
      ]
     },
     "execution_count": 11,
     "metadata": {},
     "output_type": "execute_result"
    }
   ],
   "source": [
    "history.history.keys()"
   ]
  },
  {
   "cell_type": "code",
   "execution_count": 15,
   "id": "3154153c",
   "metadata": {},
   "outputs": [
    {
     "data": {
      "text/plain": [
       "[<matplotlib.lines.Line2D at 0x1c51d46a310>]"
      ]
     },
     "execution_count": 15,
     "metadata": {},
     "output_type": "execute_result"
    },
    {
     "data": {
      "image/png": "[encoded data removed]",
      "text/plain": [
       "<Figure size 432x288 with 1 Axes>"
      ]
     },
     "metadata": {
      "needs_background": "light"
     },
     "output_type": "display_data"
    }
   ],
   "source": [
    "plt.plot(history.history['accuracy'])\n",
    "plt.plot(history.history['val_accuracy'])"
   ]
  },
  {
   "cell_type": "code",
   "execution_count": 16,
   "id": "b1d03cca",
   "metadata": {},
   "outputs": [
    {
     "data": {
      "text/plain": [
       "[<matplotlib.lines.Line2D at 0x1c51d505070>]"
      ]
     },
     "execution_count": 16,
     "metadata": {},
     "output_type": "execute_result"
    },
    {
     "data": {
      "image/png": "[encoded data removed]",
      "text/plain": [
       "<Figure size 432x288 with 1 Axes>"
      ]
     },
     "metadata": {
      "needs_background": "light"
     },
     "output_type": "display_data"
    }
   ],
   "source": [
    "plt.plot(history.history['loss'])\n",
    "plt.plot(history.history['val_loss'])"
   ]
  },
  {
   "cell_type": "code",
   "execution_count": 18,
   "id": "da5426f6",
   "metadata": {},
   "outputs": [
    {
     "name": "stdout",
     "output_type": "stream",
     "text": [
      "313/313 [==============================] - 1s 4ms/step - loss: 0.1256 - accuracy: 0.9899\n",
      "\n",
      "Testing loss: 0.13, acc: 0.99%\n"
     ]
    }
   ],
   "source": [
    "loss,acc=model.evaluate(x_test,y_test)\n",
    "print('\\nTesting loss: %.2f, acc: %.2f%%'%(loss, acc))"
   ]
  },
  {
   "cell_type": "code",
   "execution_count": 22,
   "id": "f852c28a",
   "metadata": {},
   "outputs": [
    {
     "name": "stdout",
     "output_type": "stream",
     "text": [
      "predicted:\n",
      "[7 2 1 ... 4 5 6]\n",
      "True label:\n",
      "[7 2 1 ... 4 5 6]\n"
     ]
    }
   ],
   "source": [
    "predicted_classes=model.predict(x_test)\n",
    "predicted_classes=np.argmax(predicted_classes, axis=1)\n",
    "print(\"predicted:\")\n",
    "print(predicted_classes)\n",
    "print(\"True label:\")\n",
    "print(Y_test_original)"
   ]
  },
  {
   "cell_type": "code",
   "execution_count": 24,
   "id": "936f9c56",
   "metadata": {},
   "outputs": [
    {
     "data": {
      "text/plain": [
       "44342"
      ]
     },
     "execution_count": 24,
     "metadata": {},
     "output_type": "execute_result"
    }
   ],
   "source": [
    "np.sum(predicted_classes)"
   ]
  },
  {
   "cell_type": "code",
   "execution_count": null,
   "id": "37de890a",
   "metadata": {},
   "outputs": [],
   "source": []
  }
 ],
 "metadata": {
  "kernelspec": {
   "display_name": "Python 3",
   "language": "python",
   "name": "python3"
  },
  "language_info": {
   "codemirror_mode": {
    "name": "ipython",
    "version": 3
   },
   "file_extension": ".py",
   "mimetype": "text/x-python",
   "name": "python",
   "nbconvert_exporter": "python",
   "pygments_lexer": "ipython3",
   "version": "3.8.8"
  }
 },
 "nbformat": 4,
 "nbformat_minor": 5
}
